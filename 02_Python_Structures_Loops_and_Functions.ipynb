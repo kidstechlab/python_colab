{
  "nbformat": 4,
  "nbformat_minor": 0,
  "metadata": {
    "colab": {
      "provenance": [],
      "authorship_tag": "ABX9TyO62iNN5x9lEAMGOb/Bl3H9",
      "include_colab_link": true
    },
    "kernelspec": {
      "name": "python3",
      "display_name": "Python 3"
    },
    "language_info": {
      "name": "python"
    }
  },
  "cells": [
    {
      "cell_type": "markdown",
      "metadata": {
        "id": "view-in-github",
        "colab_type": "text"
      },
      "source": [
        "<a href=\"https://colab.research.google.com/github/kidstechlab/python_colab/blob/main/02_Python_Structures_Loops_and_Functions.ipynb\" target=\"_parent\"><img src=\"https://colab.research.google.com/assets/colab-badge.svg\" alt=\"Open In Colab\"/></a>"
      ]
    },
    {
      "cell_type": "markdown",
      "source": [
        "# Lesson 2: Python Structures, Loops and Functions"
      ],
      "metadata": {
        "id": "n4aBAdXJ9Fx5"
      }
    },
    {
      "cell_type": "markdown",
      "source": [
        "# Control Structures:\n",
        "\n",
        "**Conditional Statements `(if, elif, else)`:**\n",
        "\n",
        "Objective: Understand how to execute code based on specific conditions.\n",
        "\n"
      ],
      "metadata": {
        "id": "4Sy2zFG29Slj"
      }
    },
    {
      "cell_type": "markdown",
      "source": [
        "**Example Code:**"
      ],
      "metadata": {
        "id": "iGlyn9hI9oU4"
      }
    },
    {
      "cell_type": "code",
      "execution_count": null,
      "metadata": {
        "id": "iJTvdR0w82ut"
      },
      "outputs": [],
      "source": [
        "temperature = 25  # You can change this value to test different conditions\n",
        "\n",
        "if temperature > 30:\n",
        "    print(\"It's a hot day.\")\n",
        "elif temperature > 20:\n",
        "    print(\"It's a warm day.\")\n",
        "else:\n",
        "    print(\"It's a cool day.\")\n"
      ]
    },
    {
      "cell_type": "markdown",
      "source": [
        "**Execution Steps:**\n",
        "\n",
        "*  Assign a value to the temperature variable.\n",
        "*  The program checks each condition:\n",
        "  -  If temperature is greater than 30, it prints \"It's a hot day.\"\n",
        "  -  If temperature is greater than 20 but not greater than 30, it prints \"It's a warm day.\"\n",
        "  -  If neither condition is met, it prints \"It's a cool day.\"\n"
      ],
      "metadata": {
        "id": "mmyxRIuc-qGB"
      }
    },
    {
      "cell_type": "markdown",
      "source": [
        "**Expected Output:**\n",
        "\n",
        "For temperature = 25:\n",
        "\n",
        "`It's a warm day.`\n"
      ],
      "metadata": {
        "id": "G5pegiuR-Ioc"
      }
    },
    {
      "cell_type": "markdown",
      "source": [
        "**Loops (for and while):**  \n",
        "  \n",
        "  \n",
        "Objective: Learn to execute a block of code multiple times using loops."
      ],
      "metadata": {
        "id": "mZMjh_D7-cGc"
      }
    },
    {
      "cell_type": "markdown",
      "source": [
        "**Example Code:**"
      ],
      "metadata": {
        "id": "cnooiqUt-gtt"
      }
    },
    {
      "cell_type": "code",
      "source": [
        "for i in range(5):\n",
        "    print(f\"Iteration {i}\")\n"
      ],
      "metadata": {
        "id": "euvAo0Ox-h8N"
      },
      "execution_count": null,
      "outputs": []
    },
    {
      "cell_type": "markdown",
      "source": [
        "**Execution Steps:**\n",
        "\n",
        "*  The range(5) function generates numbers from 0 to 4.\n",
        "*  The loop iterates over these numbers, and print(f\"Iteration {i}\") displays the current iteration number."
      ],
      "metadata": {
        "id": "252sGnjj--vK"
      }
    },
    {
      "cell_type": "markdown",
      "source": [
        "**Expected Output:**\n",
        "\n",
        "```\n",
        "Iteration 0\n",
        "Iteration 1\n",
        "Iteration 2\n",
        "Iteration 3\n",
        "Iteration 4\n",
        "```\n",
        "\n",
        "\n",
        "\n",
        "\n",
        "\n"
      ],
      "metadata": {
        "id": "wJiQJBf3_HcF"
      }
    },
    {
      "cell_type": "markdown",
      "source": [
        "**While Loop:**  \n",
        "  \n",
        "**Example Code:**"
      ],
      "metadata": {
        "id": "idH-WxCx_e_-"
      }
    },
    {
      "cell_type": "code",
      "source": [
        "count = 0\n",
        "while count < 3:\n",
        "    print(f\"Count is {count}\")\n",
        "    count += 1"
      ],
      "metadata": {
        "id": "1rUZa_CF_uel"
      },
      "execution_count": null,
      "outputs": []
    },
    {
      "cell_type": "markdown",
      "source": [
        "**Execution Steps:**\n",
        "\n",
        "*  Initialize count to 0.\n",
        "*  The loop continues as long as count is less than 3.\n",
        "* Inside the loop, it prints the current value of count and then increments count by 1.\n",
        "\n",
        "**Expected Output:**\n",
        "\n",
        "```\n",
        "Count is 0\n",
        "Count is 1\n",
        "Count is 2\n",
        "```\n",
        "\n"
      ],
      "metadata": {
        "id": "NxxMn13k_4Yl"
      }
    },
    {
      "cell_type": "markdown",
      "source": [
        "# Functions:\n",
        "\n",
        "Objective: Understand how to create reusable blocks of code using functions.  \n",
        "\n",
        "**Example Code:**"
      ],
      "metadata": {
        "id": "1CHR3pVbAOXb"
      }
    },
    {
      "cell_type": "code",
      "source": [
        "def greet(name):\n",
        "    return f\"Hello, {name}! How are you?\"\n",
        "\n",
        "print(greet(\"Alice\"))\n"
      ],
      "metadata": {
        "id": "foVQCpKK--Cm"
      },
      "execution_count": null,
      "outputs": []
    },
    {
      "cell_type": "markdown",
      "source": [
        "**Execution Steps:**\n",
        "\n",
        "*  Define a function greet that takes one parameter, name.\n",
        "*  The function returns a greeting string incorporating the provided name.\n",
        "*  Call the function with the argument \"Alice\" and print the result."
      ],
      "metadata": {
        "id": "3Au8nC47Aelf"
      }
    },
    {
      "cell_type": "markdown",
      "source": [
        "**Expected Output:**\n",
        "\n",
        "```\n",
        "Hello, Alice! How are you?\n",
        "```\n",
        "\n"
      ],
      "metadata": {
        "id": "u7Wr6KRyAoCk"
      }
    },
    {
      "cell_type": "markdown",
      "source": [
        "# Data Structures:\n",
        "\n",
        "Objective: Store multiple items in a single variable\n",
        "\n",
        "**Example Code:**"
      ],
      "metadata": {
        "id": "nT_b1FFjlCTv"
      }
    },
    {
      "cell_type": "code",
      "source": [
        "fruits = [\"apple\", \"banana\", \"cherry\"]\n",
        "fruits.append(\"orange\")\n",
        "print(fruits)\n"
      ],
      "metadata": {
        "id": "CyYZwvUx92LJ"
      },
      "execution_count": null,
      "outputs": []
    },
    {
      "cell_type": "markdown",
      "source": [
        "# Dictionaries:\n",
        "\n",
        "Initialize a dictionary with keys 'name', 'age', and 'grade', assigning appropriate values.\n",
        "\n",
        "**Example Code:**"
      ],
      "metadata": {
        "id": "uFz9yw7TnAo1"
      }
    },
    {
      "cell_type": "code",
      "source": [
        "student = {\"name\": \"Alice\", \"age\": 15, \"grade\": \"10th\"}\n",
        "\n",
        "print(student[\"name\"])\n",
        "\n",
        "print(student[\"age\"])"
      ],
      "metadata": {
        "id": "TlSCy6Cq-bBX"
      },
      "execution_count": null,
      "outputs": []
    },
    {
      "cell_type": "markdown",
      "source": [
        "# Assignment Exercises:\n",
        "\n",
        "### Assignment 1: Number Guessing Game (Using Loops and Conditionals)  \n",
        "\n",
        "**Objective:**\n",
        "Write a simple number guessing game where the computer selects a random number, and the player must guess it.\n",
        "\n",
        "**Instructions:**\n",
        "\n",
        "* Import the random module and generate a random number between 1 and 10.\n",
        "* Prompt the user to guess the number.\n",
        "* Use a while loop to allow the user to keep guessing until they get the correct number.\n",
        "* If the guess is too high, display \"Too high! Try again.\"\n",
        "* If the guess is too low, display \"Too low! Try again.\"\n",
        "* When the user guesses correctly, display \"Congratulations! You guessed it right!\" and exit the loop.\n",
        "\n",
        "**Expected Output (Example Interaction):**\n",
        "\n",
        "```\n",
        "Guess a number between 1 and 10: 5\n",
        "Too low! Try again.\n",
        "Guess a number between 1 and 10: 8\n",
        "Too high! Try again.\n",
        "Guess a number between 1 and 10: 7\n",
        "Congratulations! You guessed it right!\n",
        "```\n",
        "\n",
        "\n"
      ],
      "metadata": {
        "id": "9UtrqCiVnWY-"
      }
    },
    {
      "cell_type": "code",
      "source": [
        "# put your code below\n",
        "\n",
        "\n",
        "\n",
        "\n",
        "\n",
        "\n"
      ],
      "metadata": {
        "id": "lpWuuDkwnOMp"
      },
      "execution_count": null,
      "outputs": []
    },
    {
      "cell_type": "markdown",
      "source": [
        "### Assignment 2: Shopping List Manager (Using Lists and Loops)\n",
        "**Objective:**  \n",
        "Create a simple shopping list program where the user can add and remove items.\n",
        "\n",
        "**Instructions:**\n",
        "* Create an empty list called shopping_list.\n",
        "* Use a while loop to repeatedly ask the user if they want to add, remove, or view the shopping list.\n",
        "* If the user chooses \"add\", prompt for an item and append it to shopping_list.\n",
        "* If the user chooses \"remove\", prompt for an item to remove.\n",
        "* If the user chooses \"view\", print the entire list.\n",
        "* If the user chooses \"exit\", end the program.\n",
        "\n",
        "**Expected Output (Example Interaction):**\n",
        "\n",
        "\n",
        "```\n",
        "Would you like to 'add', 'remove', 'view', or 'exit'?: add\n",
        "Enter an item to add: Apples\n",
        "Apples added to shopping list.\n",
        "\n",
        "Would you like to 'add', 'remove', 'view', or 'exit'?: add\n",
        "Enter an item to add: Bananas\n",
        "Bananas added to shopping list.\n",
        "\n",
        "Would you like to 'add', 'remove', 'view', or 'exit'?: view\n",
        "Your shopping list: ['Apples', 'Bananas']\n",
        "\n",
        "Would you like to 'add', 'remove', 'view', or 'exit'?: remove\n",
        "Enter an item to remove: Apples\n",
        "Apples removed from shopping list.\n",
        "\n",
        "Would you like to 'add', 'remove', 'view', or 'exit'?: exit\n",
        "Goodbye!\n",
        "```\n",
        "\n",
        "\n"
      ],
      "metadata": {
        "id": "_7-N44JDqEFf"
      }
    },
    {
      "cell_type": "code",
      "source": [
        "# put your code below\n",
        "\n",
        "\n",
        "\n",
        "\n",
        "\n",
        "\n"
      ],
      "metadata": {
        "id": "feHZVDaFqP6j"
      },
      "execution_count": null,
      "outputs": []
    },
    {
      "cell_type": "markdown",
      "source": [
        "### Assignment 3: Student Grade Calculator (Using Functions and Dictionaries)\n",
        "\n",
        "**Objective:**\n",
        "Write a program that calculates the average grade of a student and assigns a grade letter.\n",
        "\n",
        "**Instructions:**\n",
        "* Create a function `calculate_average()` that accepts a dictionary of subjects and their scores.\n",
        "* Inside the function:\n",
        "  * Compute the average score.\n",
        "  * Assign a grade letter:\n",
        "    * A if score is 90-100\n",
        "    * B if score is 80-89\n",
        "    * C if score is 70-79\n",
        "    * D if score is 60-69\n",
        "    * F if score is below 60\n",
        "  * Print the average score and the letter grade.\n",
        "* Use a dictionary to store at least three subjects and their scores.\n",
        "* Call the function and display the result.\n",
        "\n",
        "**Expected Output:**\n",
        "\n",
        "student_grades = {\"Math\": 85, \"Science\": 92, \"History\": 78}\n",
        "calculate_average(student_grades)\n",
        "\n",
        "**Output:**  \n",
        "Average Score: 85.00  \n",
        "Final Grade: B\n"
      ],
      "metadata": {
        "id": "xSaf8SG3q9uH"
      }
    },
    {
      "cell_type": "code",
      "source": [
        "# put your code below\n",
        "\n",
        "\n",
        "\n",
        "\n",
        "\n",
        "\n"
      ],
      "metadata": {
        "id": "300pSqbWsC1x"
      },
      "execution_count": null,
      "outputs": []
    },
    {
      "cell_type": "markdown",
      "source": [
        "# Summary of Learning Objectives Covered in These Assignments\n",
        "✅ Loops (for, while) – Repeating tasks until a condition is met.  \n",
        "✅ Conditionals (if-elif-else) – Making decisions based on user input.  \n",
        "✅ Functions (def) – Encapsulating logic into reusable blocks.  \n",
        "✅ Lists (append, remove) – Storing multiple items dynamically.  \n",
        "✅ Dictionaries (keys, values) – Storing data in key-value pairs.  \n",
        "✅ User Input (input()) – Making programs interactive."
      ],
      "metadata": {
        "id": "LsddML6LtMtI"
      }
    },
    {
      "cell_type": "markdown",
      "source": [
        "\n",
        "\n",
        "---\n",
        "\n"
      ],
      "metadata": {
        "id": "hLwIXucGtWrN"
      }
    },
    {
      "cell_type": "markdown",
      "source": [
        "##Warning: Assignment answers below 🫣"
      ],
      "metadata": {
        "id": "Xh9vqvGQpdzL"
      }
    },
    {
      "cell_type": "markdown",
      "source": [
        "### Assignment 1:"
      ],
      "metadata": {
        "id": "y2K7Xr5WpjeG"
      }
    },
    {
      "cell_type": "markdown",
      "source": [],
      "metadata": {
        "id": "gL53RSSqtc81"
      }
    },
    {
      "cell_type": "code",
      "source": [
        "import random\n",
        "\n",
        "secret_number = random.randint(1, 10)\n",
        "guess = 0  # Initialize with a value that won't match initially\n",
        "\n",
        "while guess != secret_number:\n",
        "    guess = int(input(\"Guess a number between 1 and 10: \"))\n",
        "\n",
        "    if guess > secret_number:\n",
        "        print(\"Too high! Try again.\")\n",
        "    elif guess < secret_number:\n",
        "        print(\"Too low! Try again.\")\n",
        "\n",
        "print(\"Congratulations! You guessed it right!\")"
      ],
      "metadata": {
        "id": "SX1EQRCapW7j"
      },
      "execution_count": null,
      "outputs": []
    },
    {
      "cell_type": "markdown",
      "source": [
        "### Assignment 2:"
      ],
      "metadata": {
        "id": "5LA-vSFCqX08"
      }
    },
    {
      "cell_type": "code",
      "source": [
        "shopping_list = []\n",
        "\n",
        "while True:\n",
        "    action = input(\"Would you like to 'add', 'remove', 'view', or 'exit'?: \").lower()\n",
        "\n",
        "    if action == \"add\":\n",
        "        item = input(\"Enter an item to add: \")\n",
        "        shopping_list.append(item)\n",
        "        print(f\"{item} added to shopping list.\")\n",
        "\n",
        "    elif action == \"remove\":\n",
        "        item = input(\"Enter an item to remove: \")\n",
        "        if item in shopping_list:\n",
        "            shopping_list.remove(item)\n",
        "            print(f\"{item} removed from shopping list.\")\n",
        "        else:\n",
        "            print(\"Item not found in list.\")\n",
        "\n",
        "    elif action == \"view\":\n",
        "        print(\"Your shopping list:\", shopping_list)\n",
        "\n",
        "    elif action == \"exit\":\n",
        "        print(\"Goodbye!\")\n",
        "        break\n",
        "\n",
        "    else:\n",
        "        print(\"Invalid choice. Please enter 'add', 'remove', 'view', or 'exit'.\")\n"
      ],
      "metadata": {
        "id": "gQIyKGB_p3Nn"
      },
      "execution_count": null,
      "outputs": []
    },
    {
      "cell_type": "markdown",
      "source": [
        "### Assignment 3:"
      ],
      "metadata": {
        "id": "lyMHcZ7ysIfG"
      }
    },
    {
      "cell_type": "code",
      "source": [
        "def calculate_average(grades):\n",
        "    total = sum(grades.values())\n",
        "    average = total / len(grades)\n",
        "\n",
        "    if average >= 90:\n",
        "        grade = \"A\"\n",
        "    elif average >= 80:\n",
        "        grade = \"B\"\n",
        "    elif average >= 70:\n",
        "        grade = \"C\"\n",
        "    elif average >= 60:\n",
        "        grade = \"D\"\n",
        "    else:\n",
        "        grade = \"F\"\n",
        "\n",
        "    print(f\"Average Score: {average:.2f}\")\n",
        "    print(f\"Final Grade: {grade}\")\n",
        "\n",
        "# Example student grades\n",
        "student_grades = {\"Math\": 85, \"Science\": 92, \"History\": 78}\n",
        "calculate_average(student_grades)\n"
      ],
      "metadata": {
        "id": "-5lK89_pqfLD"
      },
      "execution_count": null,
      "outputs": []
    },
    {
      "cell_type": "code",
      "source": [],
      "metadata": {
        "id": "v21JfVydsXAf"
      },
      "execution_count": null,
      "outputs": []
    }
  ]
}