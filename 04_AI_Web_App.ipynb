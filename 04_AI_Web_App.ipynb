{
  "nbformat": 4,
  "nbformat_minor": 0,
  "metadata": {
    "colab": {
      "provenance": [],
      "gpuType": "T4",
      "authorship_tag": "ABX9TyMZGc/HrOvTMBi2m8K9BXzS",
      "include_colab_link": true
    },
    "kernelspec": {
      "name": "python3",
      "display_name": "Python 3"
    },
    "language_info": {
      "name": "python"
    },
    "accelerator": "GPU"
  },
  "cells": [
    {
      "cell_type": "markdown",
      "metadata": {
        "id": "view-in-github",
        "colab_type": "text"
      },
      "source": [
        "<a href=\"https://colab.research.google.com/github/kidstechlab/python_colab/blob/main/04_AI_Web_App.ipynb\" target=\"_parent\"><img src=\"https://colab.research.google.com/assets/colab-badge.svg\" alt=\"Open In Colab\"/></a>"
      ]
    },
    {
      "cell_type": "markdown",
      "source": [
        "# Lesson 4\n",
        "# Build an Object Detection Web App Using YOLO11n and Gradio\n",
        "\n",
        "## Lesson Overview\n",
        "### Objective:\n",
        "\n",
        "Learn how to integrate the AI object detection model (Yolo) with a simple web UI.  \n",
        "\n",
        "Build an interactive application where users can upload an image and see detected objects (e.g., persons, cars, bicycles) overlaid with bounding boxes, class labels, and confidence scores.  \n",
        "\n",
        "Understand how real‑world AI applications work, such as traffic monitoring or content tagging.\n",
        "\n",
        "### Real‑Life Connection:\n",
        "Imagine an app that lets you take a photo of a busy street and instantly shows you what objects are present—like cars, people, and bikes. This kind of technology is used in smart traffic systems and photo organization tools.  \n",
        "\n",
        "GPU Note:  \n",
        "For faster AI processing, switch your Colab runtime to a GPU (e.g., Tesla T4):\n",
        "\n",
        "* Click \"Runtime\" > \"Change runtime type\".\n",
        "\n",
        "* Select \"T4 GPU\" under Hardware accelerator.\n",
        "\n",
        "* Click \"Save.\"\n"
      ],
      "metadata": {
        "id": "7N14sPokaFUv"
      }
    },
    {
      "cell_type": "markdown",
      "source": [
        "## Part 1: Setting Up the Environment\n",
        "### 1. Install Required Packages\n"
      ],
      "metadata": {
        "id": "Nr--b5GmbWAA"
      }
    },
    {
      "cell_type": "code",
      "execution_count": null,
      "metadata": {
        "id": "o2Qc29eRX4oP"
      },
      "outputs": [],
      "source": [
        "!pip install ultralytics gradio pillow\n"
      ]
    },
    {
      "cell_type": "markdown",
      "source": [
        "## Part 2: Building the Object Detection Web App\n",
        "### Import Libraries and Load YOLO11n Model\n",
        "Instructions:  \n",
        "Import the necessary libraries and load the YOLO11n model from the Ultralytics package.\n",
        "\n",
        "Example Code:  "
      ],
      "metadata": {
        "id": "r-G4_hWCbewK"
      }
    },
    {
      "cell_type": "code",
      "source": [
        "import gradio as gr\n",
        "import numpy as np\n",
        "from PIL import Image\n",
        "import requests\n",
        "from io import BytesIO\n",
        "import matplotlib.pyplot as plt\n",
        "\n",
        "from ultralytics import YOLO\n",
        "\n",
        "# Load the YOLO11n model (nano version; lightweight and fast)\n",
        "model = YOLO('yolo11n.pt')\n",
        "print(\"YOLO11n model loaded successfully!\")\n"
      ],
      "metadata": {
        "id": "0zdiaTRJX6H3"
      },
      "execution_count": null,
      "outputs": []
    },
    {
      "cell_type": "markdown",
      "source": [
        "### Create the Object Detection Function\n",
        "Define a function that takes an image (as a PIL Image), processes it with YOLO11n, and returns the detection result image.\n",
        "\n",
        "Example Code:"
      ],
      "metadata": {
        "id": "ftsbTRj2b6Ma"
      }
    },
    {
      "cell_type": "code",
      "source": [
        "def detect_objects(input_img):\n",
        "    \"\"\"\n",
        "    Processes the input image using YOLO11n to detect objects.\n",
        "    Returns an image with bounding boxes, labels, and confidence scores.\n",
        "    \"\"\"\n",
        "    # Ensure the image is in RGB mode\n",
        "    if input_img.mode != \"RGB\":\n",
        "        input_img = input_img.convert(\"RGB\")\n",
        "\n",
        "    # Convert the PIL image to a NumPy array\n",
        "    img_np = np.array(input_img)\n",
        "\n",
        "    # Run YOLO11n detection on the image\n",
        "    results = model(img_np)\n",
        "\n",
        "    # Use the built-in plot() method to overlay detections\n",
        "    detected_img = results[0].plot()\n",
        "\n",
        "    return detected_img"
      ],
      "metadata": {
        "id": "6cO-S6n_X-1N"
      },
      "execution_count": null,
      "outputs": []
    },
    {
      "cell_type": "markdown",
      "source": [
        "### Build the Gradio Interface\n",
        "Create a Gradio interface that allows users to upload an image and see the detection results.\n",
        "\n",
        "Example Code:"
      ],
      "metadata": {
        "id": "hjAQT5hKcDph"
      }
    },
    {
      "cell_type": "code",
      "source": [
        "iface = gr.Interface(\n",
        "    fn=detect_objects,\n",
        "    inputs=gr.Image(type=\"pil\"),\n",
        "    outputs=\"image\",\n",
        "    title=\"Object Detection with YOLO11n\",\n",
        "    description=(\n",
        "        \"Upload an image (e.g., a street scene) and the YOLO11n model will detect objects such as persons, cars, and bicycles. \"\n",
        "        \"The model is pretrained on the COCO dataset, which includes 80 common object classes.\"\n",
        "    )\n",
        ")\n",
        "\n",
        "iface.launch()\n"
      ],
      "metadata": {
        "id": "kCNJNpGoYBtw"
      },
      "execution_count": null,
      "outputs": []
    },
    {
      "cell_type": "markdown",
      "source": [
        "### Final Reminders for Day 4\n",
        "**Run Each Cell:** Click inside each cell and press Shift + Enter to execute your code.\n",
        "\n",
        "**Test Thoroughly:** Experiment with different images to ensure robust performance.\n",
        "\n",
        "**Document Your Process:** Use comments and text cells to record observations and reflections.\n",
        "\n",
        "**Engage:** Share your findings with classmates and discuss potential improvements.\n",
        "\n",
        "**Gradio:** There is a **\"Running on public URL\"** that you can use on your mobile phone as well.\n",
        "\n",
        "Happy coding, and enjoy building your AI-powered object detection web app with YOLO11n and Gradio!"
      ],
      "metadata": {
        "id": "I3F4BqNccYeF"
      }
    },
    {
      "cell_type": "code",
      "source": [],
      "metadata": {
        "id": "pyMXTnCyYFiQ"
      },
      "execution_count": null,
      "outputs": []
    }
  ]
}