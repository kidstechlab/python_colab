{
  "nbformat": 4,
  "nbformat_minor": 0,
  "metadata": {
    "colab": {
      "provenance": [],
      "authorship_tag": "ABX9TyO7reGHF6DMgBjFucmhUmQT",
      "include_colab_link": true
    },
    "kernelspec": {
      "name": "python3",
      "display_name": "Python 3"
    },
    "language_info": {
      "name": "python"
    }
  },
  "cells": [
    {
      "cell_type": "markdown",
      "metadata": {
        "id": "view-in-github",
        "colab_type": "text"
      },
      "source": [
        "<a href=\"https://colab.research.google.com/github/kidstechlab/python_colab/blob/main/01_Introduction_to_Python_and_Google_Colab.ipynb\" target=\"_parent\"><img src=\"https://colab.research.google.com/assets/colab-badge.svg\" alt=\"Open In Colab\"/></a>"
      ]
    },
    {
      "cell_type": "markdown",
      "source": [
        "**Lesson 01: Introduction to Python and Google Colab**\n",
        "\n",
        "**Lesson Overview**\n",
        "\n",
        "Welcome to your first day of Python coding! In this lesson, we’ll get introduced to Python and learn how to use Google Colab as our coding playground. We will cover the basics of Python syntax, work with variables of different data types, and practice simple input/output operations. Here's what we'll explore today:\n",
        "\n",
        "**What is Python?** – Python is a popular, beginner-friendly programming language known for its easy-to-read syntax. It’s named after Monty Python (the comedy group), so having fun is part of the culture!\n",
        "\n",
        "**Using Google Colab:** Google Colab (Colaboratory) is an online notebook that lets us write and run Python code in a web browser. It’s free and requires no installation. We’ll learn how to create a new Colab notebook, write code in cells, and run those cells to see output.\n",
        "\n",
        "**Python Syntax Basics:** Python syntax refers to the rules for writing code. For example, Python uses indentation (spaces at the beginning of a line) to group code blocks, and it’s case-sensitive (print is different from Print). Don’t worry, we’ll start simple with one-line commands.\n",
        "\n",
        "**Variables and Data Types:** Variables are like containers that store information. We’ll see how to create variables to hold data (like numbers or text) and discuss basic data types:\n",
        "Integers – whole numbers (e.g., 5, 42).\n",
        "Floats – numbers with decimals (e.g., 3.14, 0.5).\n",
        "Strings – text enclosed in quotes (e.g., \"Hello\").\n",
        "\n",
        "**Basic Input/Output:** We will use the print() function to display output and the input() function to get input from the user (like typing your name or a number). This will let our programs interact with us!\n",
        "\n",
        "By the end of Day 1, you’ll have written simple Python programs that print messages, use variables, and even ask for user input. Let’s get started!"
      ],
      "metadata": {
        "id": "gQWpHj9rB8QB"
      }
    },
    {
      "cell_type": "markdown",
      "source": [
        "**1. Printing Text with print()**\n",
        "\n",
        "**Explanation:** The `print()` function outputs text to the screen. It’s the first thing most programmers learn. We can use it to make the computer say hello to us.\n",
        "\n",
        "**Example Code:** In the code cell below, press **Shift + Enter** or click the **\"Play\"** button on the left side of the cell to execute the code."
      ],
      "metadata": {
        "id": "g7ppYQT_FEjy"
      }
    },
    {
      "cell_type": "code",
      "source": [
        "print(\"Hello, world!\")"
      ],
      "metadata": {
        "id": "YU10Wn_WCy4L"
      },
      "execution_count": null,
      "outputs": []
    },
    {
      "cell_type": "markdown",
      "source": [
        "**What happens?** The notebook will display the text inside the quotes.\n",
        "\n",
        "You just wrote your first Python command! 🎉 The `print()` function will display anything inside the parentheses. (Remember to put quotes around text, otherwise Python thinks it's a variable or command.)"
      ],
      "metadata": {
        "id": "4e8iJ8XVFt7z"
      }
    },
    {
      "cell_type": "markdown",
      "source": [
        "**2. Using Variables and Data Types**\n",
        "\n",
        "**Explanation:** A variable stores a value so we can use it later. Think of it as a labeled box where you can put data. Let’s create a few variables of different types and print them out.\n",
        "\n",
        "Example Code:"
      ],
      "metadata": {
        "id": "4stPzdK6F_b8"
      }
    },
    {
      "cell_type": "code",
      "source": [
        "# Storing information in variables\n",
        "name = \"Alice\"       # string (text)\n",
        "age = 15             # integer (number)\n",
        "height = 5.1         # float (number with a decimal)\n",
        "\n",
        "print(name)          # prints the string value of name\n",
        "print(age)           # prints the integer value of age\n",
        "print(height)        # prints the float value of height"
      ],
      "metadata": {
        "id": "QV6_LRNPGJZZ"
      },
      "execution_count": null,
      "outputs": []
    },
    {
      "cell_type": "markdown",
      "source": [
        "We created three variables: name holds a string, age holds an integer, and height holds a float. The print() statements display each variable’s value. Notice we don’t use quotes when printing a variable – we want the value, not the variable’s name.\n",
        "\n",
        "Tip: You can also print multiple things at once. For example, `print(\"Name:\", name, \"Age:\", age)` would print both labels and values together. Python will automatically separate them with a space.\n",
        "\n",
        "Give it a try below"
      ],
      "metadata": {
        "id": "jsZy9sjnFCX8"
      }
    },
    {
      "cell_type": "code",
      "source": [
        "# put your code here\n",
        "# print(.....)\n",
        "\n"
      ],
      "metadata": {
        "id": "7303xHzrGgQu"
      },
      "execution_count": null,
      "outputs": []
    },
    {
      "cell_type": "markdown",
      "source": [
        "**3. Getting User Input with input()**\n",
        "\n",
        "**Explanation:** `input()` allows the user to type something into the program. This is how we can make our programs interactive. By default, `input()` treats whatever the user types as a string (text).\n",
        "\n",
        "**Example Code:** Let’s ask the user for their name and greet them:\n",
        "\n",
        "When you run this cell, look at the output area. It will show the prompt What is your name? and wait for you to type an answer. Go ahead and type your name and press"
      ],
      "metadata": {
        "id": "e9Kxnt56iHMc"
      }
    },
    {
      "cell_type": "code",
      "source": [
        "user_name = input(\"What is your name? \")  # ask user and store the input\n",
        "print(\"Hello, \" + user_name + \"!\")        # greet the user by name"
      ],
      "metadata": {
        "id": "DsGdIOnVGjH1"
      },
      "execution_count": null,
      "outputs": []
    },
    {
      "cell_type": "markdown",
      "source": [
        "**Here’s what happened:** `input(\"What is your name? \")` displayed a prompt and paused for input. We typed Sam. The program stored \"Sam\" in the variable user_name. Then `print(\"Hello, \" + user_name + \"!\")` printed a greeting. We used `+` to concatenate (join together) strings.\n",
        "\n",
        "*Hint:* If you want to use the input as a number (for math), you need to convert it using `int()` for integers or `float()` for decimals. (We’ll see this in the exercises.)"
      ],
      "metadata": {
        "id": "xCxCpzCOil_E"
      }
    },
    {
      "cell_type": "markdown",
      "source": [
        "**4. Simple Arithmetic Operations**\n",
        "\n",
        "**Explanation:** Python can do math! We can use `+` for addition, `-` for subtraction, `*` for multiplication, and `/` for division. Let’s try using two numbers and see the results of these operations.\n",
        "\n",
        "Example Code:"
      ],
      "metadata": {
        "id": "V6VVSYxxjR_p"
      }
    },
    {
      "cell_type": "code",
      "source": [
        "a = 8\n",
        "b = 2\n",
        "\n",
        "print(a + b)  # addition\n",
        "print(a - b)  # subtraction\n",
        "print(a * b)  # multiplication\n",
        "print(a / b)  # division\n"
      ],
      "metadata": {
        "id": "jLNghzvJjCtE"
      },
      "execution_count": null,
      "outputs": []
    },
    {
      "cell_type": "markdown",
      "source": [
        "We created two variables `a` and `b` and assigned them values 8 and 2. Python calculated the results of the expressions and printed them:  \n",
        "* 8 + 2 is 10  \n",
        "* 8 - 2 is 6  \n",
        "* 8 * 2 is 16  \n",
        "* 8 / 2 is 4.0 (division in Python 3 always gives a float, hence 4.0 instead of 4)\n",
        "\n",
        "\n"
      ],
      "metadata": {
        "id": "KdVPu5_8jn4S"
      }
    },
    {
      "cell_type": "markdown",
      "source": [
        "We can also print these in a single line with descriptions for clarity.\n",
        "\n",
        "For example:  \n",
        "`print(\"Addition:\", a + b)`\n",
        "\n",
        "Give it a try below"
      ],
      "metadata": {
        "id": "iNPPKTZXkCrL"
      }
    },
    {
      "cell_type": "code",
      "source": [
        "# put your code below\n",
        "# print(\"xxxxx\", ....)\n",
        "\n"
      ],
      "metadata": {
        "id": "vVotTpV5igbA"
      },
      "execution_count": null,
      "outputs": []
    },
    {
      "cell_type": "markdown",
      "source": [],
      "metadata": {
        "id": "gGzsh8BtkYHd"
      }
    },
    {
      "cell_type": "markdown",
      "source": [
        "**5. Common Errors and Debugging Tips**\n",
        "\n",
        "When you write code, errors (also called *bugs*) are normal, especially when you’re learning. Here are some common mistakes beginners might make on Day 1, and how to fix them:\n",
        "\n",
        "- **Syntax Errors:** These happen when the code is not written in proper Python format. For example, forgetting a quote or parenthesis will cause a syntax error.<br>*Example:* `print(\"Hello world!` (missing the closing quote) will result in an error. To fix it, always check that quotes and parentheses come in pairs.\n",
        "\n",
        "- **Name Errors:** If you see a `NameError`, it means Python found a word it doesn’t recognize. This often happens if you try to use a variable before creating it, or you spelled it wrong. Make sure you define variables first.<br>*Example:* Using `print(age)` before you wrote `age = 15` will give a NameError.\n",
        "- **Type Errors:** These occur when you try to do an operation on mismatched types. A common one is trying to add numbers and strings without conversion.<br>*Example:* `print(\"Age: \" + 15)` causes a TypeError because you’re mixing text with an integer. Instead, do `print(\"Age: \" + str(15))` or `print(\"Age:\", 15)` to let Python handle the conversion.\n",
        "\n",
        "- **Indentation Errors:** In Day 1, you might not see this yet, but Python uses indentation (spaces at the start of a line) to define code blocks. If you indent when you shouldn’t, or forget to indent after certain statements (we'll see this in later lessons), you’ll get an IndentationError. The fix is to adjust your spaces properly.\n",
        "\n",
        "\n",
        "**Debugging Tips:**\n",
        "- Read the error message; it tells you the type of error and a line number where it happened. This is a big clue to what went wrong.\n",
        "- If something isn’t working, double-check your spelling and punctuation (Python is exact about these).\n",
        "- Experiment in small pieces: run one small part of your code, see if it works, then add more. This way, if an error appears, you know which part caused it.\n",
        "- Don’t panic! Even experienced programmers encounter errors. Debugging is like solving a puzzle – use the clues Python gives you to fix the issue.\n",
        "\n",
        "With these tips in mind, let’s move on to some practice exercises to apply what we learned."
      ],
      "metadata": {
        "id": "pAmjMU21kqcY"
      }
    },
    {
      "cell_type": "markdown",
      "source": [
        "**Find the bugs and correct the errors below:**"
      ],
      "metadata": {
        "id": "vnzAsWGnmVDE"
      }
    },
    {
      "cell_type": "code",
      "source": [
        "print(\"Hello World\"\n"
      ],
      "metadata": {
        "id": "NuhwG4oomYfM"
      },
      "execution_count": null,
      "outputs": []
    },
    {
      "cell_type": "code",
      "source": [
        "print(test)\n",
        "test = 123\n"
      ],
      "metadata": {
        "id": "VTttKg9pmkkS"
      },
      "execution_count": null,
      "outputs": []
    },
    {
      "cell_type": "code",
      "source": [
        "print(\"Age: \" + 15)\n"
      ],
      "metadata": {
        "id": "a5jloppomq31"
      },
      "execution_count": null,
      "outputs": []
    },
    {
      "cell_type": "markdown",
      "source": [
        "**Assignment Exercises**\n",
        "\n",
        "Now it’s your turn! Below are three exercises to practice at home or as homework. Try to write each program in a new Colab cell on your own. The exercises are designed to be fun and reinforce today's concepts. Good luck!"
      ],
      "metadata": {
        "id": "p2Fy-dWUnEFM"
      }
    },
    {
      "cell_type": "markdown",
      "source": [
        "**1. Hello, Me!** - Write a Python program that prints your name, age, and a short greeting message.\n",
        "\n",
        "- **Instructions:** Use one or more `print()` statements to display a greeting. You can either store your name and age in variables and then print them, or directly include the values in the print statements. Make sure the output is clear and friendly.\n",
        "\n",
        "- **Hint:** You could do this with multiple print statements (one for each line of output), or by concatenating strings."
      ],
      "metadata": {
        "id": "zH95HIePnaQI"
      }
    },
    {
      "cell_type": "code",
      "source": [
        "# put your code below\n",
        "\n",
        "\n",
        "\n",
        "\n",
        "\n"
      ],
      "metadata": {
        "id": "pfMi8xDwn9XN"
      },
      "execution_count": null,
      "outputs": []
    },
    {
      "cell_type": "markdown",
      "source": [
        "**2. Arithmetic Fun** – Create a script that performs addition, subtraction, multiplication, and division on two numbers. You can choose to use numbers given directly in the code or ask the user for input.\n",
        "\n",
        "- **Instructions:** If you use hardcoded numbers, simply assign two variables (e.g., `num1` and `num2`) and then print the results of `num1 + num2`, `num1 - num2`, etc. If you use user input, use the `input()` function to get two numbers from the user. Don’t forget to convert the input strings to integers or floats using `int()` or `float()` before doing math! Print the outcome of each operation on a separate line, with a label or in a sentence so the results are clear.\n"
      ],
      "metadata": {
        "id": "VnoAImf0oQSa"
      }
    },
    {
      "cell_type": "code",
      "source": [
        "# put your code below\n",
        "\n",
        "\n",
        "\n",
        "\n",
        "\n",
        "\n"
      ],
      "metadata": {
        "id": "9s2viFLhowq_"
      },
      "execution_count": null,
      "outputs": []
    },
    {
      "cell_type": "markdown",
      "source": [
        "**3. Area Calculator** – Write a program that calculates the area of a rectangle. The area is length * width. The program should ask the user to input the length and width, then compute the area and display it.\n",
        "\n",
        "- **Instructions:** Use `input()` to get the length and width from the user. Since these could be decimal values, you might use `float(input())` to allow for non-integer measurements. Multiply the two inputs and store the result in a variable (e.g., `area`). Finally, use `print()` to show the area. Make sure the output is descriptive, not just a number by itself – it should say that this number is the area.\n",
        "\n",
        "- **Hint:** Structure your code as follows: prompt for length, prompt for width, calculate area, then print the result. You can include units in your prompt or output if you want (like \"meters\" or \"cm\"), but it's not required."
      ],
      "metadata": {
        "id": "B9ZMe2XDo_JS"
      }
    },
    {
      "cell_type": "code",
      "source": [
        "# put your code below\n",
        "\n",
        "\n",
        "\n",
        "\n",
        "\n",
        "\n"
      ],
      "metadata": {
        "id": "5Rb0fJWzps7v"
      },
      "execution_count": null,
      "outputs": []
    },
    {
      "cell_type": "markdown",
      "source": [
        "**Recap: In Day 1,** we learned how to print messages, create variables for numbers and text, get user input, and perform basic math. You also learned how to read error messages and fix simple mistakes. This sets the foundation for all the programming adventures to come. Great job on completing Day 1! 🎉\n",
        "\n",
        "\n",
        "In the next lesson, we’ll introduce new concepts like conditional statements (making decisions in code) and perhaps loops. Until then, happy coding! Keep practicing, and don’t hesitate to revisit these examples if you need a refresher. Remember: every expert programmer started with “Hello, world!” just like you did today. Welcome to the world of Python!\n"
      ],
      "metadata": {
        "id": "oEKFKiK6pv2-"
      }
    },
    {
      "cell_type": "markdown",
      "source": [
        "**Assignment submission**\n",
        "\n",
        "Use 'Share' button on the top right hand side and share to thomas@kidstechlab.com\n"
      ],
      "metadata": {
        "id": "UsEWwQi9qKow"
      }
    },
    {
      "cell_type": "markdown",
      "source": [
        "<br><br><br><br>\n",
        "\n",
        "**Below if the assignment answer**"
      ],
      "metadata": {
        "id": "_8ruGDPeq2pz"
      }
    },
    {
      "cell_type": "code",
      "source": [
        "# Hello, Me!\n",
        "\n",
        "name = \"Tom\"\n",
        "age = 12\n",
        "print(\"Hello, my name is\", name + \".\")\n",
        "print(\"I am\", age, \"years old.\")\n",
        "print(\"Nice to meet you!\")"
      ],
      "metadata": {
        "id": "ON7mi2AurOAr"
      },
      "execution_count": null,
      "outputs": []
    },
    {
      "cell_type": "code",
      "source": [
        "# Arithmetic Fun\n",
        "\n",
        "num1 = int(input(\"Enter first number: \"))\n",
        "num2 = int(input(\"Enter second number: \"))\n",
        "print(\"Addition:\", num1 + num2)\n",
        "print(\"Subtraction:\", num1 - num2)\n",
        "print(\"Multiplication:\", num1 * num2)\n",
        "print(\"Division:\", num1 / num2)"
      ],
      "metadata": {
        "id": "B8I0dAA1rUmt"
      },
      "execution_count": null,
      "outputs": []
    },
    {
      "cell_type": "code",
      "source": [
        "# Area Calculator\n",
        "\n",
        "length = float(input(\"Enter the length of the rectangle: \"))\n",
        "width = float(input(\"Enter the width of the rectangle: \"))\n",
        "area = length * width\n",
        "print(\"The area of the rectangle is\", area)"
      ],
      "metadata": {
        "id": "Pfp1urhZrbjc"
      },
      "execution_count": null,
      "outputs": []
    },
    {
      "cell_type": "code",
      "source": [],
      "metadata": {
        "id": "vJpcK6lMrljo"
      },
      "execution_count": null,
      "outputs": []
    }
  ]
}