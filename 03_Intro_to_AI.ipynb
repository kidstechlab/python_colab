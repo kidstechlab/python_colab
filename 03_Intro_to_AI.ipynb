{
  "nbformat": 4,
  "nbformat_minor": 0,
  "metadata": {
    "colab": {
      "provenance": [],
      "gpuType": "T4",
      "authorship_tag": "ABX9TyPC7/l2fHcai91XUvnDpavQ",
      "include_colab_link": true
    },
    "kernelspec": {
      "name": "python3",
      "display_name": "Python 3"
    },
    "language_info": {
      "name": "python"
    },
    "accelerator": "GPU"
  },
  "cells": [
    {
      "cell_type": "markdown",
      "metadata": {
        "id": "view-in-github",
        "colab_type": "text"
      },
      "source": [
        "<a href=\"https://colab.research.google.com/github/kidstechlab/python_colab/blob/main/03_Intro_to_AI.ipynb\" target=\"_parent\"><img src=\"https://colab.research.google.com/assets/colab-badge.svg\" alt=\"Open In Colab\"/></a>"
      ]
    },
    {
      "cell_type": "markdown",
      "source": [
        "# Lesson 3: Intro to AI - Object detection\n",
        "\n",
        "## Overview\n",
        "*  Learn fundamental AI in an accessible way.\n",
        "*  Understand what object detection is and why it’s useful.\n",
        "*  Run an AI object detection model (Yolo) to detect objects in a street scene (showing a car, person, and bike).\n",
        "*  Visualize the detection results (bounding boxes, labels, confidence scores) in Google Colab\n",
        "\n"
      ],
      "metadata": {
        "id": "IMhGrmTiY7p_"
      }
    },
    {
      "cell_type": "markdown",
      "source": [
        "### Setup\n",
        "Changing the Colab Runtime to T4 GPU\n",
        "\n",
        "**Why Use a GPU?**\n",
        "\n",
        "**Faster Computation:** Deep learning models like YOLO11n involve complex computations that are much faster on a GPU compared to a CPU.  \n",
        "\n",
        "*  In your Google Colab notebook, click on the \"Runtime\" menu at the top.  \n",
        "\n",
        "![](https://raw.githubusercontent.com/kidstechlab/python_colab/refs/heads/main/Change%20colab%20runtime.png)\n",
        "\n",
        "*  Select \"Change runtime type\" from the dropdown.\n",
        "In the pop-up window, locate the \"Hardware accelerator\" option and select \"GPU\" from the dropdown menu.\n",
        "(Google Colab often provides a Tesla T4 GPU by default when you choose \"GPU\".)\n",
        "\n",
        "![](https://raw.githubusercontent.com/kidstechlab/python_colab/refs/heads/main/T4%20GPU.png)\n",
        "\n",
        "*  Click \"Save\" to apply the changes.\n",
        "\n",
        "Your notebook is now set to use a GPU, which will speed up tasks for AI\n"
      ],
      "metadata": {
        "id": "d2SRS6zxc_6E"
      }
    },
    {
      "cell_type": "markdown",
      "source": [
        "## Introduction to AI & Machine Learning Concepts\n",
        "\n",
        "### Key Concepts to Cover:\n",
        "\n",
        "**What is AI?**\n",
        "Artificial Intelligence (AI) is the field of computer science focused on creating systems that can perform tasks that typically require human intelligence. This includes understanding language, recognizing images, making decisions, and more.  \n",
        "\n",
        "**Neural Networks:**\n",
        "These are computer models inspired by the human brain. They consist of layers of interconnected “neurons” that work together to process information. In image detection, a neural network can learn to identify features such as edges, shapes, and colors.  \n",
        "\n",
        "**Object Detection:**\n",
        "Object detection is a task where the computer not only recognizes what is in an image but also tells you where it is by drawing a box around it. This is useful for tasks like identifying items in an image.\n",
        "\n",
        "**You Only Look Once (YOLO)**\n",
        "Yolo is a real-time object detection systems based on convolutional neural networks"
      ],
      "metadata": {
        "id": "uiJ_RPTvbBoZ"
      }
    },
    {
      "cell_type": "markdown",
      "source": [
        "### Installing YOLO by ultralytics"
      ],
      "metadata": {
        "id": "VGLRXdVmbavL"
      }
    },
    {
      "cell_type": "code",
      "source": [
        "!pip install ultralytics\n"
      ],
      "metadata": {
        "id": "rQHTR40bP_8c"
      },
      "execution_count": null,
      "outputs": []
    },
    {
      "cell_type": "code",
      "source": [
        "# Import libraries for image handling from the internet\n",
        "import requests\n",
        "from io import BytesIO\n",
        "from PIL import Image\n",
        "\n",
        "# Import other necessary libraries\n",
        "from ultralytics import YOLO\n",
        "import matplotlib.pyplot as plt\n",
        "import numpy as np"
      ],
      "metadata": {
        "id": "oEQHGvOZQ39n"
      },
      "execution_count": null,
      "outputs": []
    },
    {
      "cell_type": "code",
      "execution_count": null,
      "metadata": {
        "id": "wI3tZlDiPhXL"
      },
      "outputs": [],
      "source": [
        "\n",
        "# Load the YOLO11 model (pre-trained on food data)\n",
        "model = YOLO('yolo11n.pt')  # Ensure 'yolo11.pt' is in your Colab files or use a provided URL\n",
        "print(\"YOLO11 model loaded successfully!\")\n",
        "\n"
      ]
    },
    {
      "cell_type": "markdown",
      "source": [
        "##  Loading an Image from a URL Using a Custom Function\n",
        "\n",
        "### Instructions:\n",
        "\n",
        "Create a function to load an image from an online URL. We’ll use an image that shows a city street with cars, people, and bikes.  \n",
        "\n",
        "### Example Code:"
      ],
      "metadata": {
        "id": "EnBwCH_TiE9Y"
      }
    },
    {
      "cell_type": "code",
      "source": [
        "# Define a function to load an image from a URL with custom headers\n",
        "def load_url_image(url, headers={\"User-Agent\": \"AIBot/1.0\"}):\n",
        "    response = requests.get(url, headers=headers)\n",
        "    if response.status_code == 200:\n",
        "        img = Image.open(BytesIO(response.content))\n",
        "        return img\n",
        "    else:\n",
        "        print(\"Failed to retrieve image. Status code:\", response.status_code)\n",
        "        return None\n",
        "\n",
        "# URL of a sample street scene image (contains car, person, and bike)\n",
        "image_url = \"https://wikiaustralia.com/wp-content/uploads/2011/07/Getting-to-Balmain-by-car.jpg\"\n",
        "\n",
        "# Load the image using the custom function\n",
        "img_pil = load_url_image(image_url)\n",
        "\n",
        "# Convert the PIL image to a NumPy array (required for YOLO)\n",
        "img_np = np.array(img_pil)\n",
        "\n",
        "img_np\n",
        "# Display the original image\n",
        "plt.imshow(img_np)\n",
        "plt.title(\"Original Street Image from URL\")\n",
        "plt.axis(\"off\")\n",
        "plt.show()\n"
      ],
      "metadata": {
        "id": "BpoGCDGmiB2P"
      },
      "execution_count": null,
      "outputs": []
    },
    {
      "cell_type": "markdown",
      "source": [
        "## Running YOLO11n Detection on the URL Image\n",
        "\n",
        "### Example Code:"
      ],
      "metadata": {
        "id": "SK7T4kV0jMe9"
      }
    },
    {
      "cell_type": "code",
      "source": [
        "# Run YOLO11n detection on the image\n",
        "results = model(img_np)\n",
        "\n",
        "# Visualize detections using the built-in plot() method\n",
        "detected_img = results[0].plot()  # Get the first result\n",
        "\n",
        "# Display the detection results\n",
        "plt.imshow(detected_img)\n",
        "plt.title(\"Detected Objects (Car, Person, Bike, etc.)\")\n",
        "plt.axis(\"off\")\n",
        "plt.show()"
      ],
      "metadata": {
        "id": "9-NgPuVaiU6K"
      },
      "execution_count": null,
      "outputs": []
    },
    {
      "cell_type": "markdown",
      "source": [
        "Do the detected objects match what you see in the image?\n",
        "\n",
        "Test with another image. Try changing the image url with another image.   \n",
        "E.g. https://wikiaustralia.com/wp-content/uploads/2011/07/The-Rocks-in-Sydney.jpg\n",
        "\n",
        "![](https://wikiaustralia.com/wp-content/uploads/2011/07/The-Rocks-in-Sydney.jpg)\n",
        "\n",
        "### Example code:"
      ],
      "metadata": {
        "id": "GXUreufPkQws"
      }
    },
    {
      "cell_type": "code",
      "source": [
        "image_url = \"https://wikiaustralia.com/wp-content/uploads/2011/07/The-Rocks-in-Sydney.jpg\"\n",
        "\n",
        "# Load the image using the custom function\n",
        "img_pil = load_url_image(image_url)\n",
        "\n",
        "# Convert the PIL image to a NumPy array (required for YOLO)\n",
        "img_np = np.array(img_pil)\n",
        "\n",
        "# Display the new image\n",
        "plt.imshow(img_np)\n",
        "plt.title(\"New Street Image from URL\")\n",
        "plt.axis(\"off\")\n",
        "plt.show()\n",
        "\n",
        "# Run YOLO11n detection on the image\n",
        "results = model(img_np)\n",
        "\n",
        "# Visualize detections using the built-in plot() method\n",
        "detected_img = results[0].plot()  # Get the first result\n",
        "\n",
        "# Display the detection results\n",
        "plt.imshow(detected_img)\n",
        "plt.title(\"Detected Objects\")\n",
        "plt.axis(\"off\")\n",
        "plt.show()"
      ],
      "metadata": {
        "id": "Y_sjWvjajawc"
      },
      "execution_count": null,
      "outputs": []
    },
    {
      "cell_type": "markdown",
      "source": [
        "## Modify the Detection Confidence Threshold\n",
        "\n",
        "### Objective:\n",
        "Explore how adjusting the detection confidence threshold affects the displayed detections.\n",
        "\n",
        "### Instructions:\n",
        "\n",
        "* Modify the YOLO detection code to only display detections with a confidence score above a specific threshold (e.g., 0.70).  \n",
        "\n",
        "* Re-run the detection on the original image."
      ],
      "metadata": {
        "id": "K5-wK4-Lm9XJ"
      }
    },
    {
      "cell_type": "code",
      "source": [
        "# Run YOLO11n detection on the image\n",
        "results = model(img_np)\n",
        "\n",
        "# Define the confidence threshold\n",
        "confidence_threshold = 0.7\n",
        "\n",
        "results = model(img_np, conf=confidence_threshold)\n",
        "# Visualize detections using the built-in plot() method\n",
        "# But only plot the boxes that have a confidence > 0.7\n",
        "detected_img = results[0].plot()\n",
        "\n",
        "# Display the detection results\n",
        "plt.imshow(detected_img)\n",
        "plt.title(\"Detected Objects with Confidence > 0.7\")\n",
        "plt.axis(\"off\")\n",
        "plt.show()\n",
        "\n"
      ],
      "metadata": {
        "id": "lzTdUsmjnxMI"
      },
      "execution_count": null,
      "outputs": []
    },
    {
      "cell_type": "markdown",
      "source": [
        "### Expected Outcome:\n",
        "Notice that increasing the threshold results in fewer (but more certain) detections"
      ],
      "metadata": {
        "id": "PMeTD5dQVhvi"
      }
    },
    {
      "cell_type": "markdown",
      "source": [
        "## Run the object detection with a uploaded image\n",
        "\n"
      ],
      "metadata": {
        "id": "TIXlcslxXc_Z"
      }
    },
    {
      "cell_type": "code",
      "source": [
        "from google.colab import files\n",
        "\n",
        "uploaded = files.upload()\n",
        "\n",
        "for fn in uploaded.keys():\n",
        "  print('User uploaded file \"{name}\" with length {length} bytes'.format(\n",
        "      name=fn, length=len(uploaded[fn])))"
      ],
      "metadata": {
        "id": "mwM4gQ6QYD5r"
      },
      "execution_count": null,
      "outputs": []
    },
    {
      "cell_type": "code",
      "source": [
        "# Assuming the uploaded file is named 'image.jpg' (adjust if different)\n",
        "img_path = list(uploaded.keys())[0]\n",
        "\n",
        "# Load the image using PIL\n",
        "img_pil = Image.open(BytesIO(uploaded[img_path]))\n",
        "\n",
        "# Convert the PIL image to a NumPy array\n",
        "img_np = np.array(img_pil)\n",
        "\n",
        "# Display the uploaded image\n",
        "plt.imshow(img_np)\n",
        "plt.title(\"Uploaded Image\")\n",
        "plt.axis(\"off\")\n",
        "plt.show()\n",
        "\n",
        "# Run YOLO detection on the uploaded image\n",
        "results = model(img_np)\n",
        "\n",
        "# Visualize detections\n",
        "detected_img = results[0].plot()\n",
        "\n",
        "# Display the detection results\n",
        "plt.imshow(detected_img)\n",
        "plt.title(\"Detected Objects\")\n",
        "plt.axis(\"off\")\n",
        "plt.show()\n"
      ],
      "metadata": {
        "id": "rnsYh3TNXPVH"
      },
      "execution_count": null,
      "outputs": []
    },
    {
      "cell_type": "markdown",
      "source": [
        "## Summary\n",
        "*  **Change Runtime to GPU:** Ensure your Colab runtime is set to a T4 GPU (refer to Part 0) for faster processing.\n",
        "*  **Experiment:** Try different image URLs and adjust parameters like the confidence threshold.\n",
        "*  **Share** your findings with classmates and discuss how AI-powered object detection can change everyday life.\n",
        "\n",
        "Happy coding, and enjoy exploring how AI helps us \"see\" common objects like cars, persons, and bikes in real-world scenes!"
      ],
      "metadata": {
        "id": "0rw_49jJVv4N"
      }
    },
    {
      "cell_type": "code",
      "source": [],
      "metadata": {
        "id": "67mTvM5nWJvi"
      },
      "execution_count": null,
      "outputs": []
    },
    {
      "cell_type": "code",
      "source": [],
      "metadata": {
        "id": "cLqrg3JqnZL5"
      },
      "execution_count": null,
      "outputs": []
    }
  ]
}